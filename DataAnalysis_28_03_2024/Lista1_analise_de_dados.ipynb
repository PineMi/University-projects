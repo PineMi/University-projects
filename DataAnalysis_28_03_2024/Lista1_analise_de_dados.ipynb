{
 "cells": [
  {
   "cell_type": "markdown",
   "id": "7517d466",
   "metadata": {},
   "source": [
    "## Analise de dados - Lista de exercícios 01\n",
    "\n",
    "Exercícios do livro A Estatística Básica e sua Prática de David S. Moore e William I. Notz"
   ]
  },
  {
   "cell_type": "markdown",
   "id": "ea843140",
   "metadata": {},
   "source": [
    "### Imports"
   ]
  },
  {
   "cell_type": "code",
   "execution_count": 44,
   "id": "dd408ce2",
   "metadata": {},
   "outputs": [],
   "source": [
    "import scipy.stats as st\n",
    "import matplotlib.pyplot as plt"
   ]
  },
  {
   "cell_type": "markdown",
   "id": "91eb1998",
   "metadata": {},
   "source": [
    "## Exercícios de Distribuição Normal"
   ]
  },
  {
   "cell_type": "markdown",
   "id": "7a1a4a67",
   "metadata": {},
   "source": [
    "### 3.28 -) Treinamento na Normal padrão. Use a Tabela A para determinar a proporção de observações de uma distribuição Normal padrão que está em cada uma das regiões a seguir. Em cada caso, esboce uma curva Normal padrão e sombreie a área que representa a região."
   ]
  },
  {
   "cell_type": "markdown",
   "id": "82055e6c",
   "metadata": {},
   "source": [
    "#### a) z ≤ 1,63"
   ]
  },
  {
   "cell_type": "code",
   "execution_count": 3,
   "id": "18f9ab11",
   "metadata": {},
   "outputs": [
    {
     "data": {
      "text/plain": [
       "94.84492515099106"
      ]
     },
     "execution_count": 3,
     "metadata": {},
     "output_type": "execute_result"
    }
   ],
   "source": [
    "st.norm.cdf(1.63) * 100"
   ]
  },
  {
   "cell_type": "markdown",
   "id": "2b317e5b",
   "metadata": {},
   "source": [
    "#### b) z ≥ 1,63"
   ]
  },
  {
   "cell_type": "code",
   "execution_count": 4,
   "id": "61e2c517",
   "metadata": {},
   "outputs": [
    {
     "data": {
      "text/plain": [
       "5.155074849008933"
      ]
     },
     "execution_count": 4,
     "metadata": {},
     "output_type": "execute_result"
    }
   ],
   "source": [
    "(1 - st.norm.cdf(1.63)) * 100"
   ]
  },
  {
   "cell_type": "markdown",
   "id": "65e00882",
   "metadata": {},
   "source": [
    "#### c) z > 0,92"
   ]
  },
  {
   "cell_type": "code",
   "execution_count": 5,
   "id": "d8060da6",
   "metadata": {},
   "outputs": [
    {
     "data": {
      "text/plain": [
       "17.87863796143717"
      ]
     },
     "execution_count": 5,
     "metadata": {},
     "output_type": "execute_result"
    }
   ],
   "source": [
    "(1 - st.norm.cdf(.92)) * 100"
   ]
  },
  {
   "cell_type": "markdown",
   "id": "87c9af7e",
   "metadata": {},
   "source": [
    "#### d) –1,63 < z < 0,92"
   ]
  },
  {
   "cell_type": "code",
   "execution_count": 6,
   "id": "a66cc97a",
   "metadata": {},
   "outputs": [
    {
     "data": {
      "text/plain": [
       "76.9662871895539"
      ]
     },
     "execution_count": 6,
     "metadata": {},
     "output_type": "execute_result"
    }
   ],
   "source": [
    "(st.norm.cdf(.92) - st.norm.cdf(-1.63)) * 100"
   ]
  },
  {
   "cell_type": "markdown",
   "id": "0422b081",
   "metadata": {},
   "source": [
    "### 3.29 -) Treinamento na Normal padrão."
   ]
  },
  {
   "cell_type": "markdown",
   "id": "c45d9e66",
   "metadata": {},
   "source": [
    "#### (a)Determine o número z de modo que a proporção de observações que são inferiores a z em uma distribuição Normal padrão seja 0,2."
   ]
  },
  {
   "cell_type": "code",
   "execution_count": 7,
   "id": "8a39de98",
   "metadata": {},
   "outputs": [
    {
     "data": {
      "text/plain": [
       "-0.8416212335729142"
      ]
     },
     "execution_count": 7,
     "metadata": {},
     "output_type": "execute_result"
    }
   ],
   "source": [
    "st.norm.ppf(.2)"
   ]
  },
  {
   "cell_type": "markdown",
   "id": "65ee0cab",
   "metadata": {},
   "source": [
    "#### (b)Determine o número z de modo que 40% de todas as observações de uma distribuição Normal padrão sejam maiores do que z."
   ]
  },
  {
   "cell_type": "code",
   "execution_count": 8,
   "id": "3de409bb",
   "metadata": {},
   "outputs": [
    {
     "data": {
      "text/plain": [
       "0.2533471031357997"
      ]
     },
     "execution_count": 8,
     "metadata": {},
     "output_type": "execute_result"
    }
   ],
   "source": [
    "st.norm.ppf(.6)"
   ]
  },
  {
   "cell_type": "markdown",
   "id": "2548ecfd",
   "metadata": {},
   "source": [
    "### 3.30 -) Moscas de fruta. A mosca de fruta comum Drosophila melanogaster é o organismo mais estudado na pesquisa genética porque é pequena, de fácil crescimento e se reproduz rapidamente. Os comprimentos do tórax (onde as asas e as pernas se prendem) em uma população de machos de moscas de fruta seguem uma distribuição aproximadamente Normal, com média de 0,800 mm e desvio-padrão de 0,078 mm."
   ]
  },
  {
   "cell_type": "markdown",
   "id": "8d0d6a61",
   "metadata": {},
   "source": [
    "#### (a)Qual proporção de moscas macho tem comprimento do tórax menor que 0,7 mm?"
   ]
  },
  {
   "cell_type": "code",
   "execution_count": 9,
   "id": "dd83cb4b",
   "metadata": {},
   "outputs": [
    {
     "data": {
      "text/plain": [
       "-1.2820512820512822"
      ]
     },
     "execution_count": 9,
     "metadata": {},
     "output_type": "execute_result"
    }
   ],
   "source": [
    "# 0,8 + z0,78 = 0,7\n",
    "z = -50 / 39\n",
    "z"
   ]
  },
  {
   "cell_type": "code",
   "execution_count": 10,
   "id": "7e29cc71",
   "metadata": {},
   "outputs": [
    {
     "data": {
      "text/plain": [
       "9.991232866619177"
      ]
     },
     "execution_count": 10,
     "metadata": {},
     "output_type": "execute_result"
    }
   ],
   "source": [
    "st.norm.cdf(z) * 100"
   ]
  },
  {
   "cell_type": "markdown",
   "id": "56f3a99f",
   "metadata": {},
   "source": [
    "#### (b)Qual proporção tem comprimento do tórax maior que 1,0 mm?"
   ]
  },
  {
   "cell_type": "code",
   "execution_count": 11,
   "id": "04facf9c",
   "metadata": {},
   "outputs": [
    {
     "data": {
      "text/plain": [
       "2.5641025641025643"
      ]
     },
     "execution_count": 11,
     "metadata": {},
     "output_type": "execute_result"
    }
   ],
   "source": [
    "# 0,8 + z0,078 = 1\n",
    "z = 100 / 39\n",
    "z"
   ]
  },
  {
   "cell_type": "code",
   "execution_count": 12,
   "id": "c8b6d1a6",
   "metadata": {},
   "outputs": [
    {
     "data": {
      "text/plain": [
       "0.517214860149906"
      ]
     },
     "execution_count": 12,
     "metadata": {},
     "output_type": "execute_result"
    }
   ],
   "source": [
    "(1 - st.norm.cdf(z)) * 100"
   ]
  },
  {
   "cell_type": "markdown",
   "id": "a083d235",
   "metadata": {},
   "source": [
    "#### (c)Qual proporção tem comprimento do tórax entre 0,7 e 1,0 mm?"
   ]
  },
  {
   "cell_type": "code",
   "execution_count": 13,
   "id": "c1baa23c",
   "metadata": {},
   "outputs": [
    {
     "data": {
      "text/plain": [
       "89.49155227323091"
      ]
     },
     "execution_count": 13,
     "metadata": {},
     "output_type": "execute_result"
    }
   ],
   "source": [
    "z1 = -50 / 39 \n",
    "z2 = 100 / 39\n",
    "\n",
    "(st.norm.cdf(z2) - st.norm.cdf(z1)) * 100"
   ]
  },
  {
   "cell_type": "markdown",
   "id": "e00cd07b",
   "metadata": {},
   "source": [
    "### 3.31 -) Chuva ácida? As emissões de dióxido de enxofre pela indústria causam mudanças químicas na atmosfera que resultam na “chuva ácida”. A acidez dos líquidos é medida pelo pH, em uma escala de 0 a 14. A água destilada tem pH 7,0 e valores mais baixos de pH indicam acidez. A chuva normal é um pouco ácida, de modo que chuva ácida é, algumas vezes, definida como chuva com pH abaixo de 5,0. O pH da chuva em um local varia, nos dias chuvosos, de acordo com uma distribuição Normal, com média de 5,43 e desvio-padrão de 0,54. "
   ]
  },
  {
   "cell_type": "markdown",
   "id": "d36f846c",
   "metadata": {},
   "source": [
    "#### Que proporção dos dias chuvosos tem chuvas com pH abaixo de 5,0?"
   ]
  },
  {
   "cell_type": "code",
   "execution_count": 14,
   "id": "83605d01",
   "metadata": {},
   "outputs": [
    {
     "data": {
      "text/plain": [
       "-0.7962962962962963"
      ]
     },
     "execution_count": 14,
     "metadata": {},
     "output_type": "execute_result"
    }
   ],
   "source": [
    "# 5.43 + z * 0.54 = 5\n",
    "z = -43/54\n",
    "z"
   ]
  },
  {
   "cell_type": "code",
   "execution_count": 15,
   "id": "d4f5a568",
   "metadata": {},
   "outputs": [
    {
     "data": {
      "text/plain": [
       "21.292991890134104"
      ]
     },
     "execution_count": 15,
     "metadata": {},
     "output_type": "execute_result"
    }
   ],
   "source": [
    "st.norm.cdf(z) * 100"
   ]
  },
  {
   "cell_type": "markdown",
   "id": "ebac81ef",
   "metadata": {},
   "source": [
    "### 3.32 -) Corredores. Em um estudo de exercício físico, um grande grupo de corredores homens andou em uma esteira por 6 minutos. No final, suas taxas cardíacas, em batimentos por minuto, variaram, de corredor para corredor, de acordo com a distribuição Normal N(104; 12,5). As taxas de batimentos cardíacos para homens não corredores, depois do mesmo exercício, tiveram a distribuição N(130; 17)."
   ]
  },
  {
   "cell_type": "markdown",
   "id": "fd978a14",
   "metadata": {},
   "source": [
    "#### (a)Que percentual dos corredores tem taxas cardíacas acima de 140?"
   ]
  },
  {
   "cell_type": "code",
   "execution_count": 16,
   "id": "3eaee290",
   "metadata": {},
   "outputs": [
    {
     "data": {
      "text/plain": [
       "2.88"
      ]
     },
     "execution_count": 16,
     "metadata": {},
     "output_type": "execute_result"
    }
   ],
   "source": [
    "# 104 + z * 12.5 = 140\n",
    "z = 72/25\n",
    "z"
   ]
  },
  {
   "cell_type": "code",
   "execution_count": 17,
   "id": "9c51095d",
   "metadata": {},
   "outputs": [
    {
     "data": {
      "text/plain": [
       "0.19883758548943087"
      ]
     },
     "execution_count": 17,
     "metadata": {},
     "output_type": "execute_result"
    }
   ],
   "source": [
    "(1 - st.norm.cdf(z)) * 100"
   ]
  },
  {
   "cell_type": "markdown",
   "id": "0858eb13",
   "metadata": {},
   "source": [
    "#### (b)Que percentual dos não corredores tem taxas cardíacas acima de 140?"
   ]
  },
  {
   "cell_type": "code",
   "execution_count": 18,
   "id": "98469753",
   "metadata": {},
   "outputs": [
    {
     "data": {
      "text/plain": [
       "0.5882352941176471"
      ]
     },
     "execution_count": 18,
     "metadata": {},
     "output_type": "execute_result"
    }
   ],
   "source": [
    "# 130 + z * 17 = 140\n",
    "z = 10/17\n",
    "z"
   ]
  },
  {
   "cell_type": "code",
   "execution_count": 19,
   "id": "0b88f57e",
   "metadata": {},
   "outputs": [
    {
     "data": {
      "text/plain": [
       "27.818718521345343"
      ]
     },
     "execution_count": 19,
     "metadata": {},
     "output_type": "execute_result"
    }
   ],
   "source": [
    "(1 - st.norm.cdf(z)) * 100"
   ]
  },
  {
   "cell_type": "markdown",
   "id": "3f4002c4",
   "metadata": {},
   "source": [
    "### 3.33 -) Estamos ficando mais inteligentes? Quando o teste de QI Stanford-Binet entrou em uso, em 1932, ele foi ajustado de modo que os escores para crianças em cada faixa etária seguissem razoavelmente uma distribuição Normal, com média 100 e desvio-padrão 15. O teste é reajustado de tempos em tempos para manter a média em 100. Se crianças americanas atuais fizessem o teste de Stanford-Binet de 1932, seu escore médio seria de cerca de 120. As razões para o aumento não são conhecidas, mas provavelmente incluem melhor nutrição na infância e mais experiência em fazer testes.11\n",
    "\n",
    "\n"
   ]
  },
  {
   "cell_type": "markdown",
   "id": "f805ce7a",
   "metadata": {},
   "source": [
    "#### (a)Os escores QI acima de 130 são, em geral, chamados de “muito superiores”. Qual porcentagem de crianças teve escores muito superiores em 1932?\n"
   ]
  },
  {
   "cell_type": "code",
   "execution_count": 20,
   "id": "7b51a44a",
   "metadata": {},
   "outputs": [
    {
     "data": {
      "text/plain": [
       "2.275013194817921"
      ]
     },
     "execution_count": 20,
     "metadata": {},
     "output_type": "execute_result"
    }
   ],
   "source": [
    "# 100 + z * 15 = 130\n",
    "z = 2\n",
    "(1 - st.norm.cdf(z)) * 100"
   ]
  },
  {
   "cell_type": "markdown",
   "id": "3b9d6b84",
   "metadata": {},
   "source": [
    "#### (b)Se crianças americanas atuais fizessem o teste de Stanford-Binet de 1932, qual porcentagem teria escores muito superiores? (Suponha que o desvio-padrão de 15 não tenha se alterado.)"
   ]
  },
  {
   "cell_type": "code",
   "execution_count": 21,
   "id": "76efc7ab",
   "metadata": {},
   "outputs": [
    {
     "data": {
      "text/plain": [
       "25.24925375469229"
      ]
     },
     "execution_count": 21,
     "metadata": {},
     "output_type": "execute_result"
    }
   ],
   "source": [
    "# 120 + z * 15 = 130\n",
    "z = 2/3\n",
    "(1 - st.norm.cdf(z)) * 100"
   ]
  },
  {
   "cell_type": "markdown",
   "id": "7b1d6f02",
   "metadata": {},
   "source": [
    "### 3.34 -) Índice de massa corporal. Seu índice de massa corporal (IMC) é seu peso, em quilogramas, dividido pelo quadrado de sua altura em metros. Muitas calculadoras online permitem que você registre seu peso em libras e sua altura em polegadas. IMC alto é um indicador comum, mas controverso, de sobrepeso ou obesidade. Um estudo do órgão norte-americano National Center for Health Statistics constatou que o IMC de meninos norte-americanos de 2 anos de idade tem distribuição aproximadamente Normal, com média 16,8 e desvio-padrão 1,9.12"
   ]
  },
  {
   "cell_type": "markdown",
   "id": "7f322fb0",
   "metadata": {},
   "source": [
    "#### (a)Qual porcentagem de meninos norte-americanos de 2 anos de idade tem IMC menor do que 15,0?"
   ]
  },
  {
   "cell_type": "code",
   "execution_count": 22,
   "id": "74968462",
   "metadata": {},
   "outputs": [
    {
     "data": {
      "text/plain": [
       "17.172553841720482"
      ]
     },
     "execution_count": 22,
     "metadata": {},
     "output_type": "execute_result"
    }
   ],
   "source": [
    "# 16.8 + z * 1.9 = 15\n",
    "z = -18/19\n",
    "st.norm.cdf(z) * 100"
   ]
  },
  {
   "cell_type": "markdown",
   "id": "3ed3862d",
   "metadata": {},
   "source": [
    "#### (b)Qual porcentagem de meninos norte-americanos de 2 anos de idade tem IMC menor do que 18,5?"
   ]
  },
  {
   "cell_type": "code",
   "execution_count": 23,
   "id": "68aefefc",
   "metadata": {},
   "outputs": [
    {
     "data": {
      "text/plain": [
       "81.45361103626598"
      ]
     },
     "execution_count": 23,
     "metadata": {},
     "output_type": "execute_result"
    }
   ],
   "source": [
    "# 16.8 + z * 1.9 = 18.5\n",
    "z = 17/19\n",
    "st.norm.cdf(z) * 100"
   ]
  },
  {
   "cell_type": "markdown",
   "id": "dbea5639",
   "metadata": {},
   "source": [
    "## Exercícios de Regressão Linear"
   ]
  },
  {
   "cell_type": "markdown",
   "id": "beb9bab3",
   "metadata": {},
   "source": [
    "### 5.35 -) Qual é a minha nota? No curso de economia, do professor Krugman, a correlação entre os escores totais dos alunos antes do exame final e seus escores no exame final é r = 0,5. Os totais pré-exame para todos os alunos no curso têm média de 280 e desvio-padrão de 40. Os escores do exame final têm média de 75 e desvio-padrão de 8. O professor Krugman perdeu o exame final de Julie, mas sabe que o total dela antes do exame era 300. Ele decide predizer o escore do exame final dela a partir do total pré-exame."
   ]
  },
  {
   "cell_type": "markdown",
   "id": "2dbe7439",
   "metadata": {},
   "source": [
    "#### (a) Qual é a inclinação da reta de regressão de mínimos quadrados dos escores do exame final sobre os escores totais pré-exame nesse curso? Qual é o intercepto? Interprete a inclinação no contexto do problema."
   ]
  },
  {
   "cell_type": "markdown",
   "id": "e694ff1e",
   "metadata": {},
   "source": [
    "#### (b)Use a reta de regressão para predizer o escore do exame final de Julie."
   ]
  },
  {
   "cell_type": "markdown",
   "id": "4bb9e849",
   "metadata": {},
   "source": [
    "#### (c) Julie acha que esse método pode não prever precisamente seu desempenho no exame final. Use r2 para argumentar que o escore verdadeiro dela poderia ter sido muito mais alto (ou mais baixo) do que o valor predito."
   ]
  },
  {
   "cell_type": "markdown",
   "id": "5dd48a17",
   "metadata": {},
   "source": [
    "### 5.36 -) Mais exercício, mais perda de peso. No estudo descrito no Exemplo 5.5, os pesquisadores descobriram que, em geral, os sujeitos que se envolvem em mais atividade física têm maior gasto total de energia. Em particular, eles viram que a atividade física explicava 3,3% da variação no gasto total de energia. Qual é o valor numérico da correlação entre atividade física e gasto total de energia?"
   ]
  },
  {
   "cell_type": "markdown",
   "id": "b171d188",
   "metadata": {},
   "source": [
    "### 5.37 -) Irmãs e irmãos. Qual a intensidade da correlação das características físicas de irmãs e irmãos? Eis os dados das alturas (em polegadas) de 12 pares de adultos:"
   ]
  },
  {
   "cell_type": "code",
   "execution_count": 58,
   "id": "29fa6a2b",
   "metadata": {},
   "outputs": [],
   "source": [
    "irmao = [71, 68, 66, 67, 70, 71, 70, 73, 72, 65, 66, 70]\n",
    "irma = [69, 64, 65, 63, 65, 62, 65, 64, 66, 59, 62, 64]"
   ]
  },
  {
   "cell_type": "code",
   "execution_count": 43,
   "id": "7f2cd265",
   "metadata": {},
   "outputs": [
    {
     "name": "stdout",
     "output_type": "stream",
     "text": [
      "829 768 53095 57345 49218\n"
     ]
    }
   ],
   "source": [
    "Ex = sum(irmao)\n",
    "Ey = sum(irma) \n",
    "Exy = sum([x*y for x,y in zip(irmao, irma)])\n",
    "Ex2 = sum([x*x for x in irmao])\n",
    "Ey2 = sum([y*y for y in irma])\n",
    "print(Ex, Ey, Exy, Ex2, Ey2)"
   ]
  },
  {
   "cell_type": "markdown",
   "id": "eea8c371",
   "metadata": {},
   "source": [
    "#### (a) Use sua calculadora ou programa para encontrar a correlação e a equação da reta de regressão de mínimos quadrados para a predição da altura da irmã a partir da altura do irmão. Faça um diagrama de dispersão dos dados e acrescente a ele a reta de regressão."
   ]
  },
  {
   "cell_type": "code",
   "execution_count": 30,
   "id": "60d27876",
   "metadata": {},
   "outputs": [
    {
     "data": {
      "text/plain": [
       "0.5546300759832226"
      ]
     },
     "execution_count": 30,
     "metadata": {},
     "output_type": "execute_result"
    }
   ],
   "source": [
    "st.pearsonr(irmao, irma).statistic"
   ]
  },
  {
   "cell_type": "code",
   "execution_count": 46,
   "id": "2398c58d",
   "metadata": {},
   "outputs": [
    {
     "data": {
      "text/plain": [
       "LinregressResult(slope=0.5205784204671858, intercept=28.036707452725246, rvalue=0.5546300759832226, pvalue=0.06126844521574051, stderr=0.24697711909201153, intercept_stderr=17.073158648450402)"
      ]
     },
     "execution_count": 46,
     "metadata": {},
     "output_type": "execute_result"
    }
   ],
   "source": [
    "eq_reta = st.linregress(irmao,irma)\n",
    "m = eq_reta.slope\n",
    "b = eq_reta.intercept\n",
    "eq_reta"
   ]
  },
  {
   "cell_type": "code",
   "execution_count": 56,
   "id": "f9f698e2",
   "metadata": {},
   "outputs": [
    {
     "data": {
      "image/png": "[encoded data removed]",
      "text/plain": [
       "<Figure size 640x480 with 1 Axes>"
      ]
     },
     "metadata": {},
     "output_type": "display_data"
    }
   ],
   "source": [
    "plt.scatter(irmao,irma)\n",
    "plt.axline((0, b), slope=m, linewidth=2, color='r')\n",
    "plt.xlim(62.5,75)\n",
    "plt.ylim(55,72.5)\n",
    "plt.show()"
   ]
  },
  {
   "cell_type": "markdown",
   "id": "c14b7694",
   "metadata": {},
   "source": [
    "#### (b) Damien tem 70 polegadas de altura. Prediga a altura de sua irmã Tonya. Com base no diagrama de dispersão e na correlação r, você espera que essa predição seja muito precisa? Por quê?"
   ]
  },
  {
   "cell_type": "code",
   "execution_count": 57,
   "id": "5f49f1bc",
   "metadata": {},
   "outputs": [
    {
     "data": {
      "text/plain": [
       "64.47719688542826"
      ]
     },
     "execution_count": 57,
     "metadata": {},
     "output_type": "execute_result"
    }
   ],
   "source": [
    "x = 70\n",
    "y_hat = m * x + b\n",
    "y_hat"
   ]
  },
  {
   "cell_type": "markdown",
   "id": "0b85b27d",
   "metadata": {},
   "source": [
    "Não esperamos muita precisão desta predição, pois a correlação entre os dados não é muito forte."
   ]
  },
  {
   "cell_type": "markdown",
   "id": "1aa46330",
   "metadata": {},
   "source": [
    "### 5.38 -) Mantendo a água limpa. Para manter suprimentos de água limpos é necessária uma medição constante dos níveis de poluentes. As medições são indiretas: uma análise típica envolve a formação de uma tintura por meio de uma reação química com o poluente dissolvido para então, passando luz através da solução, medir sua “absorbância”. Para calibrar essas medições, o laboratório mede soluções padrão conhecidas e usa regressão para relacionar a absorbância à concentração do poluente. Isso é normalmente feito todos os dias. A seguir, há uma série de dados sobre a absorbância para diferentes níveis de nitratos. Os nitratos são medidos em miligramas por litro de água."
   ]
  },
  {
   "cell_type": "markdown",
   "id": "213a5196",
   "metadata": {},
   "source": [
    "#### (a) A teoria química diz que esses dados deveriam cair sobre uma reta. Se a correlação não for de pelo menos 0,997, algo errado aconteceu e o processo de calibração é repetido. Represente graficamente os dados e determine a correlação. A calibração deve ser feita novamente?"
   ]
  },
  {
   "cell_type": "markdown",
   "id": "b5898bc1",
   "metadata": {},
   "source": [
    "#### (b) O processo de calibração dá o nível de nitrato e mede a absorbância. A relação linear que resulta é usada para estimar o nível de nitrato na água para determinada medida de absorbância. Qual é a equação da reta usada para estimar o nível de nitrato? O que a inclinação dessa reta diz sobre a relação entre nível de nitrato e absorbância? Qual é o nível estimado de nitrato em um espécime de água com absorbância de 40?\n",
    "\n"
   ]
  },
  {
   "cell_type": "markdown",
   "id": "b751b5ac",
   "metadata": {},
   "source": [
    "### 5.40 -) Aquecimento global. O Exercício 4.44 fornece dados sobre anomalias na temperatura global média anual (a diferença entre a temperatura média global para dado ano e a temperatura média global entre 1901 e 2000, que foi de 13,9 graus Celsius) de 1994 a 2018, em graus Celsius. "
   ]
  },
  {
   "cell_type": "markdown",
   "id": "03f7866f",
   "metadata": {},
   "source": [
    "### 5.41 -) Nossos cérebros não gostam de perdas. O Exercício 4.30 descreve um experimento que mostrou uma relação linear entre quão sensíveis as pessoas se mostram em relação a perdas monetárias (“aversão comportamental a perdas”) e atividade em uma parte de seus cérebros (“aversão neural a perdas”). "
   ]
  },
  {
   "cell_type": "code",
   "execution_count": null,
   "id": "2ebce3e9",
   "metadata": {},
   "outputs": [],
   "source": []
  }
 ],
 "metadata": {
  "kernelspec": {
   "display_name": "Python 3 (ipykernel)",
   "language": "python",
   "name": "python3"
  },
  "language_info": {
   "codemirror_mode": {
    "name": "ipython",
    "version": 3
   },
   "file_extension": ".py",
   "mimetype": "text/x-python",
   "name": "python",
   "nbconvert_exporter": "python",
   "pygments_lexer": "ipython3",
   "version": "3.11.8"
  }
 },
 "nbformat": 4,
 "nbformat_minor": 5
}
